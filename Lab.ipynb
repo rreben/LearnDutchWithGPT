{
 "cells": [
  {
   "cell_type": "code",
   "execution_count": null,
   "metadata": {},
   "outputs": [],
   "source": [
    "!pip install openai"
   ]
  },
  {
   "cell_type": "code",
   "execution_count": 14,
   "metadata": {},
   "outputs": [
    {
     "name": "stdout",
     "output_type": "stream",
     "text": [
      "Requirement already satisfied: python-dotenv in ./venv/lib/python3.11/site-packages (1.0.1)\n",
      "\n",
      "\u001b[1m[\u001b[0m\u001b[34;49mnotice\u001b[0m\u001b[1;39;49m]\u001b[0m\u001b[39;49m A new release of pip is available: \u001b[0m\u001b[31;49m23.2.1\u001b[0m\u001b[39;49m -> \u001b[0m\u001b[32;49m24.3.1\u001b[0m\n",
      "\u001b[1m[\u001b[0m\u001b[34;49mnotice\u001b[0m\u001b[1;39;49m]\u001b[0m\u001b[39;49m To update, run: \u001b[0m\u001b[32;49mpip install --upgrade pip\u001b[0m\n"
     ]
    }
   ],
   "source": [
    "!pip install python-dotenv"
   ]
  },
  {
   "cell_type": "code",
   "execution_count": 1,
   "metadata": {},
   "outputs": [],
   "source": [
    "import openai\n",
    "import os\n",
    "from dotenv import load_dotenv"
   ]
  },
  {
   "cell_type": "markdown",
   "metadata": {},
   "source": [
    "We now need the OPEN_API_KEY. This is provided as a Codespaces Secret in the settings of the repository on the Github page."
   ]
  },
  {
   "cell_type": "code",
   "execution_count": 2,
   "metadata": {},
   "outputs": [],
   "source": [
    "# .env-Datei laden\n",
    "load_dotenv()\n",
    "\n",
    "# API-Schlüssel abrufen (priorisiert Environment-Variable)\n",
    "api_key = os.getenv(\"OPENAI_API_KEY\")\n",
    "\n",
    "# Verwenden Sie das Geheimnis in Ihrem Code\n",
    "openai.api_key = api_key"
   ]
  },
  {
   "cell_type": "markdown",
   "metadata": {},
   "source": [
    "At this point, you can view the api_key. It makes sense to check whether the secret has been read correctly. WARNING: The output should be deleted immediately, otherwise the key can flow to Github. WARNING: If the secret is not read correctly, this may be because it was not taken into account during the environment setup. Therefore, you should delete the codespace (stopping is not enough) and rebuild it. Only then will new secrets become visible and updates be taken into account."
   ]
  },
  {
   "cell_type": "code",
   "execution_count": null,
   "metadata": {},
   "outputs": [],
   "source": [
    "print(openai.api_key)"
   ]
  },
  {
   "cell_type": "markdown",
   "metadata": {},
   "source": [
    "It may be that one runs into a budget error with openAI. The set budget limit may be reached, or the number of tokens possible per day in the tier may be exhausted. Or the budget may be consumed (in the pre-billing tier). In these cases, one must check on the page https://platform.openai.com/usage and possibly increase the budget. WARNING: It may be necessary to create a new token. Then this has to be stored in the Secret, the codespaces have to be deleted, a new codespace has to be started and the cells up to here have to be executed."
   ]
  },
  {
   "cell_type": "code",
   "execution_count": null,
   "metadata": {},
   "outputs": [
    {
     "name": "stdout",
     "output_type": "stream",
     "text": [
      "Hello! How can I assist you today?\n"
     ]
    }
   ],
   "source": [
    "# The following code section creates an array that contains the chat history. \n",
    "# It is initialized with a single prompt. \n",
    "# This is used to test the API key.from openai import AsyncOpenAI, OpenAIError\n",
    "\n",
    "client = AsyncOpenAI()\n",
    "\n",
    "try:\n",
    "    completion = await client.chat.completions.create(model=\"gpt-3.5-turbo\", messages=[{\"role\": \"user\", \"content\": \"Hello world\"}])\n",
    "    print(completion.choices[0].message.content)\n",
    "except OpenAIError as e:\n",
    "    if e.type == 'RateLimitError':\n",
    "        print(f\"Rate Limit erreicht. Bitte warten Sie einen Moment und versuchen Sie es erneut: {e}\")\n",
    "    else:\n",
    "        print(f\"Ein Fehler ist aufgetreten: {e}\")"
   ]
  },
  {
   "cell_type": "markdown",
   "metadata": {},
   "source": [
    "First, we use OpenAI's text-to-speech functions to generate an MP3 file with the text \"Today is a wonderful day ...\".  \n",
    "This mp3 file is written to the working directory of the Jupyter Notebook."
   ]
  },
  {
   "cell_type": "code",
   "execution_count": 9,
   "metadata": {},
   "outputs": [],
   "source": [
    "from pathlib import Path\n",
    "from openai import OpenAI\n",
    "client = OpenAI()\n",
    "\n",
    "# Get the current working directory\n",
    "# In a Jupyter notebook, the __file__ attribute is not available. \n",
    "# Instead, you can use the os module to get the current working directory.\n",
    "current_dir = os.getcwd()\n",
    "\n",
    "speech_file_path = Path(current_dir) / \"speech.mp3\"\n",
    "response = client.audio.speech.create(\n",
    "  model=\"tts-1\",\n",
    "  voice=\"alloy\",\n",
    "  input=\"Today is a wonderful day to build something people love!\"\n",
    ")\n",
    "\n",
    "# Write the response content directly to a file\n",
    "with open(speech_file_path, \"wb\") as f:\n",
    "    f.write(response.content)"
   ]
  },
  {
   "cell_type": "markdown",
   "metadata": {},
   "source": [
    "We get a DeprecationWarning: This is discussed in https://github.com/openai/openai-python/issues/864 But right now we can ignore the warning. As the file is being generated."
   ]
  },
  {
   "cell_type": "code",
   "execution_count": 10,
   "metadata": {},
   "outputs": [],
   "source": [
    "speech_file_path = Path(current_dir) / \"speech1.mp3\"\n",
    "response = client.audio.speech.create(\n",
    "  model=\"tts-1\",\n",
    "  voice=\"alloy\",\n",
    "  input=\"Schön Dich kennenzulernen!\"\n",
    ")\n",
    "\n",
    "# Write the response content directly to a file\n",
    "with open(speech_file_path, \"wb\") as f:\n",
    "    f.write(response.content)"
   ]
  },
  {
   "cell_type": "code",
   "execution_count": 11,
   "metadata": {},
   "outputs": [],
   "source": [
    "speech_file_path = Path(current_dir) / \"speech2.mp3\"\n",
    "response = client.audio.speech.create(\n",
    "  model=\"tts-1\",\n",
    "  voice=\"onyx\",\n",
    "  input=\"prettig met jij kennis te maken!\"\n",
    ")\n",
    "\n",
    "# Write the response content directly to a file\n",
    "with open(speech_file_path, \"wb\") as f:\n",
    "    f.write(response.content)"
   ]
  },
  {
   "cell_type": "markdown",
   "metadata": {},
   "source": [
    "Install via terminal in the codespace: "
   ]
  },
  {
   "cell_type": "code",
   "execution_count": 12,
   "metadata": {},
   "outputs": [
    {
     "name": "stdout",
     "output_type": "stream",
     "text": [
      "Password:\n",
      "sudo: a password is required\n",
      "Password:\n",
      "sudo: a password is required\n"
     ]
    }
   ],
   "source": [
    "! sudo apt-get update\n",
    "! sudo apt-get install 'ffmpeg'"
   ]
  },
  {
   "cell_type": "markdown",
   "metadata": {},
   "source": [
    "The ```apt-get``` command is not working from within the jupyter notebook. ffmpeg has to be installed on the computer where the jupyter notebook is running. Use ```brew install ffmpeg``` on a Mac."
   ]
  },
  {
   "cell_type": "code",
   "execution_count": 13,
   "metadata": {},
   "outputs": [
    {
     "name": "stdout",
     "output_type": "stream",
     "text": [
      "Collecting pydub\n",
      "  Obtaining dependency information for pydub from https://files.pythonhosted.org/packages/a6/53/d78dc063216e62fc55f6b2eebb447f6a4b0a59f55c8406376f76bf959b08/pydub-0.25.1-py2.py3-none-any.whl.metadata\n",
      "  Downloading pydub-0.25.1-py2.py3-none-any.whl.metadata (1.4 kB)\n",
      "Downloading pydub-0.25.1-py2.py3-none-any.whl (32 kB)\n",
      "Installing collected packages: pydub\n",
      "Successfully installed pydub-0.25.1\n",
      "\n",
      "\u001b[1m[\u001b[0m\u001b[34;49mnotice\u001b[0m\u001b[1;39;49m]\u001b[0m\u001b[39;49m A new release of pip is available: \u001b[0m\u001b[31;49m23.2.1\u001b[0m\u001b[39;49m -> \u001b[0m\u001b[32;49m24.3.1\u001b[0m\n",
      "\u001b[1m[\u001b[0m\u001b[34;49mnotice\u001b[0m\u001b[1;39;49m]\u001b[0m\u001b[39;49m To update, run: \u001b[0m\u001b[32;49mpip install --upgrade pip\u001b[0m\n"
     ]
    }
   ],
   "source": [
    "! pip install pydub"
   ]
  },
  {
   "cell_type": "code",
   "execution_count": 14,
   "metadata": {},
   "outputs": [
    {
     "data": {
      "text/plain": [
       "<_io.BufferedRandom name='/Users/rupertrebentisch/Documents/development/LearnDutchWithGPT/spech_sum.mp3'>"
      ]
     },
     "execution_count": 14,
     "metadata": {},
     "output_type": "execute_result"
    }
   ],
   "source": [
    "from pydub import AudioSegment\n",
    "\n",
    "# Lade die ersten und zweiten mp3 Dateien\n",
    "german_file = Path(current_dir) / \"speech1.mp3\"\n",
    "dutch_file = Path(current_dir) / \"speech2.mp3\"\n",
    "segment1 = AudioSegment.from_mp3(german_file)\n",
    "silence = AudioSegment.silent(duration=3000)  # Dauer in Millisekunden\n",
    "segment2 = AudioSegment.from_mp3(dutch_file)\n",
    "\n",
    "# Füge die beiden Songs zusammen\n",
    "final_question = segment1 + silence + segment2\n",
    "\n",
    "# Speichern Sie das Ergebnis\n",
    "final_file = Path(current_dir) / \"spech_sum.mp3\"\n",
    "final_question.export(final_file, format=\"mp3\")"
   ]
  },
  {
   "cell_type": "markdown",
   "metadata": {},
   "source": [
    "You can download freely usable sounds from the following website:\n",
    "\n",
    "https://pixabay.com/sound-effects/\n",
    "\n",
    "These sounds are used to separate the individual sections for the listener/user."
   ]
  },
  {
   "cell_type": "markdown",
   "metadata": {},
   "source": [
    "## JSon Struktur\n",
    "\n",
    "Explanation of the Structure:\n",
    "\n",
    "1. **lesson**:\n",
    "   - **title**: The title of the lesson.\n",
    "   - **description**: A description of the lesson.\n",
    "\n",
    "2. **exercises**:\n",
    "   - A list of exercises, each containing an **explanation**.\n",
    "   - Each exercise consists of multiple **tasks**.\n",
    "\n",
    "3. **tasks**:\n",
    "   - **teacher_speaks**: The text the teacher says.\n",
    "   - **student_response_time**: Time in milliseconds for the student to complete the task.\n",
    "   - **teacher_solution**: The solution provided by the teacher after the response time.\n",
    "   - **play_separator_tone**: A flag (true/false) indicating whether a separator tone should be played between tasks."
   ]
  },
  {
   "cell_type": "code",
   "execution_count": null,
   "metadata": {
    "vscode": {
     "languageId": "xml"
    }
   },
   "outputs": [],
   "source": [
    "{\n",
    "  \"lesson\": {\n",
    "    \"title\": \n",
    "      {\n",
    "        \"text\": \"Direkte und indirekte Rede\",\n",
    "        \"language_code\": \"de\"\n",
    "      },\n",
    "    \"description\": \n",
    "      {\n",
    "        \"In dieser Übung üben Sie den Unterschied zwischen direkter und indirekter Rede im Niederländischen. Sie lernen, wie Sie Aussagen aus der direkten Rede in die indirekte Rede umformulieren.\",\n",
    "        \"language_code\": \"de\"\n",
    "      },\n",
    "    \"exercises\": [\n",
    "      {\n",
    "        \"explanation\": {\n",
    "            \"text\": \"Wiederholen Sie jeden Satz in indirekter Rede.\",\n",
    "            \"language_code\": \"de\"\n",
    "        },\n",
    "        \"tasks\": [\n",
    "          {\n",
    "            \"teacher_speaks\": {\n",
    "                \"text\": \"Hij zegt: ‘Ik ga morgen naar Amsterdam.’“,\n",
    "                \"language_code\": \"nl\"\n",
    "            },\n",
    "            \"student_response_time\": 5000,\n",
    "            \"teacher_solution\": {\n",
    "                \"text\": \"Hij zegt dat hij morgen naar Amsterdam gaat.\",\n",
    "                \"language_code\": \"nl\"\n",
    "            },\n",
    "            \"play_separator_tone\": true\n",
    "          },\n",
    "          {\n",
    "            \"teacher_speaks\": {\n",
    "                \"text\": \"Zij zegt: ‘Ik hou van chocolade.“,\n",
    "                \"language_code\": \"nl\"\n",
    "            },\n",
    "            \"student_response_time\": 5000,\n",
    "            \"teacher_solution\": {\n",
    "                \"text\": \"Zij zegt dat ze van chocolade houdt.\",\n",
    "                \"language_code\": \"nl\"\n",
    "            },\n",
    "            \"play_separator_tone\": true\n",
    "          },\n",
    "          {\n",
    "            \"teacher_speaks\": {\n",
    "                \"text\": \"Hij vertelt: ‘Wij hebben gisteren een leuke film gekeken.’“,\n",
    "                \"language_code\": \"nl\"\n",
    "            },\n",
    "            \"student_response_time\": 5000,\n",
    "            \"teacher_solution\": {\n",
    "                \"text\": \"Hij vertelt dat zij gisteren een leuke film hebben gekeken.\",\n",
    "                \"language_code\": \"nl\"\n",
    "            },\n",
    "            \"play_separator_tone\": true\n",
    "          },\n",
    "          {\n",
    "            \"teacher_speaks\": {\n",
    "                \"text\": \"HZij zegt: ‘Ik werk al vijf jaar bij deze firma.’“,\n",
    "                \"language_code\": \"nl\"\n",
    "            },\n",
    "            \"student_response_time\": 5000,\n",
    "            \"teacher_solution\": {\n",
    "                \"text\": \"Zij zegt dat ze al vijf jaar bij die firma werkt.\",\n",
    "                \"language_code\": \"nl\"\n",
    "            },\n",
    "            \"play_separator_tone\": true\n",
    "          },\n",
    "          {\n",
    "            \"teacher_speaks\": {\n",
    "                \"text\": \"Hij zegt: ‘Het is vandaag heel koud.’“,\n",
    "                \"language_code\": \"nl\"\n",
    "            },\n",
    "            \"student_response_time\": 5000,\n",
    "            \"teacher_solution\": {\n",
    "                \"text\": \"Hij zegt dat het vandaag heel koud is.\",\n",
    "                \"language_code\": \"nl\"\n",
    "            },\n",
    "            \"play_separator_tone\": true\n",
    "          }\n",
    "        ]\n",
    "      },\n",
    "      {\n",
    "        \"explanation\": {\n",
    "            \"text\": \"Wiederholen Sie jede Frage in indirekter Rede.\",\n",
    "            \"language_code\": \"de\"\n",
    "        },\n",
    "        \"tasks\": [\n",
    "          {\n",
    "            \"teacher_speaks\": {\n",
    "                \"text\": \"Hij vraagt: ‘Heb je mijn boek al gelezen?’“,\n",
    "                \"language_code\": \"nl\"\n",
    "            },\n",
    "            \"student_response_time\": 5000,\n",
    "            \"teacher_solution\": {\n",
    "                \"text\": \"Hij vraagt of je zijn boek al hebt gelezen.\",\n",
    "                \"language_code\": \"nl\"\n",
    "            },\n",
    "            \"play_separator_tone\": true\n",
    "          },\n",
    "          {\n",
    "            \"teacher_speaks\": {\n",
    "                \"text\": \"Zij vraagt: ‘Waar ben je gisteren naartoe gegaan?’“,\n",
    "                \"language_code\": \"nl\"\n",
    "            },\n",
    "            \"student_response_time\": 5000,\n",
    "            \"teacher_solution\": {\n",
    "                \"text\": \"Zij vraagt waar je gisteren naartoe bent gegaan.\",\n",
    "                \"language_code\": \"nl\"\n",
    "            },\n",
    "            \"play_separator_tone\": true\n",
    "          },\n",
    "          {\n",
    "            \"teacher_speaks\": {\n",
    "                \"text\": \"Hij vraagt: ‘Kun je morgen om acht uur komen?’“,\n",
    "                \"language_code\": \"nl\"\n",
    "            },\n",
    "            \"student_response_time\": 5000,\n",
    "            \"teacher_solution\": {\n",
    "                \"text\": \"Hij vraagt of je morgen om acht uur kunt komen.\",\n",
    "                \"language_code\": \"nl\"\n",
    "            },\n",
    "            \"play_separator_tone\": true\n",
    "          },\n",
    "          {\n",
    "            \"teacher_speaks\": {\n",
    "                \"text\": \"Zij vraagt: ‘Wie heeft de presentatie voorbereid?’“,\n",
    "                \"language_code\": \"nl\"\n",
    "            },\n",
    "            \"student_response_time\": 5000,\n",
    "            \"teacher_solution\": {\n",
    "                \"text\": \"Zij vraagt wie de presentatie heeft voorbereid.\",\n",
    "                \"language_code\": \"nl\"\n",
    "            },\n",
    "            \"play_separator_tone\": true\n",
    "          },\n",
    "          {\n",
    "            \"teacher_speaks\": {\n",
    "                \"text\": \"Hij vraagt: ‘Waarom ben je zo laat aangekomen?’“,\n",
    "                \"language_code\": \"nl\"\n",
    "            },\n",
    "            \"student_response_time\": 5000,\n",
    "            \"teacher_solution\": {\n",
    "                \"text\": \"Hij vraagt waarom je zo laat bent aangekomen.\",\n",
    "                \"language_code\": \"nl\"\n",
    "            },\n",
    "            \"play_separator_tone\": true\n",
    "          }\n",
    "        ]\n",
    "      }\n",
    "    ]\n",
    "  }\n",
    "}"
   ]
  }
 ],
 "metadata": {
  "kernelspec": {
   "display_name": "venv",
   "language": "python",
   "name": "python3"
  },
  "language_info": {
   "codemirror_mode": {
    "name": "ipython",
    "version": 3
   },
   "file_extension": ".py",
   "mimetype": "text/x-python",
   "name": "python",
   "nbconvert_exporter": "python",
   "pygments_lexer": "ipython3",
   "version": "3.11.4"
  }
 },
 "nbformat": 4,
 "nbformat_minor": 2
}
