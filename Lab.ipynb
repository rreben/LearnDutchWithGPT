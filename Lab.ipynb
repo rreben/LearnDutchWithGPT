{
 "cells": [
  {
   "cell_type": "code",
   "execution_count": null,
   "metadata": {},
   "outputs": [],
   "source": [
    "!pip install openai"
   ]
  },
  {
   "cell_type": "code",
   "execution_count": 3,
   "metadata": {},
   "outputs": [],
   "source": [
    "import openai\n",
    "import os"
   ]
  },
  {
   "cell_type": "markdown",
   "metadata": {},
   "source": [
    "We now need the OPEN_API_KEY. This is provided as a Codespaces Secret in the settings of the repository on the Github page."
   ]
  },
  {
   "cell_type": "code",
   "execution_count": 4,
   "metadata": {},
   "outputs": [],
   "source": [
    "api_key = os.getenv(\"OPENAI_API_KEY\")\n",
    "\n",
    "# Verwenden Sie das Geheimnis in Ihrem Code\n",
    "openai.api_key = api_key"
   ]
  },
  {
   "cell_type": "markdown",
   "metadata": {},
   "source": [
    "At this point, you can view the api_key. It makes sense to check whether the secret has been read correctly. WARNING: The output should be deleted immediately, otherwise the key can flow to Github. WARNING: If the secret is not read correctly, this may be because it was not taken into account during the environment setup. Therefore, you should delete the codespace (stopping is not enough) and rebuild it. Only then will new secrets become visible and updates be taken into account."
   ]
  },
  {
   "cell_type": "code",
   "execution_count": null,
   "metadata": {},
   "outputs": [],
   "source": [
    "print(openai.api_key)"
   ]
  },
  {
   "cell_type": "markdown",
   "metadata": {},
   "source": [
    "It may be that one runs into a budget error with openAI. The set budget limit may be reached, or the number of tokens possible per day in the tier may be exhausted. Or the budget may be consumed (in the pre-billing tier). In these cases, one must check on the page https://platform.openai.com/usage and possibly increase the budget. WARNING: It may be necessary to create a new token. Then this has to be stored in the Secret, the codespaces have to be deleted, a new codespace has to be started and the cells up to here have to be executed."
   ]
  },
  {
   "cell_type": "code",
   "execution_count": 4,
   "metadata": {},
   "outputs": [
    {
     "name": "stdout",
     "output_type": "stream",
     "text": [
      "Hello! How can I assist you today?\n"
     ]
    }
   ],
   "source": [
    "from openai import AsyncOpenAI, OpenAIError\n",
    "\n",
    "client = AsyncOpenAI()\n",
    "\n",
    "try:\n",
    "    completion = await client.chat.completions.create(model=\"gpt-3.5-turbo\", messages=[{\"role\": \"user\", \"content\": \"Hello world\"}])\n",
    "    print(completion.choices[0].message.content)\n",
    "except OpenAIError as e:\n",
    "    if e.type == 'RateLimitError':\n",
    "        print(f\"Rate Limit erreicht. Bitte warten Sie einen Moment und versuchen Sie es erneut: {e}\")\n",
    "    else:\n",
    "        print(f\"Ein Fehler ist aufgetreten: {e}\")"
   ]
  },
  {
   "cell_type": "code",
   "execution_count": 5,
   "metadata": {},
   "outputs": [
    {
     "name": "stderr",
     "output_type": "stream",
     "text": [
      "/tmp/ipykernel_8124/1746911722.py:15: DeprecationWarning: Due to a bug, this method doesn't actually stream the response content, `.with_streaming_response.method()` should be used instead\n",
      "  response.stream_to_file(speech_file_path)\n"
     ]
    }
   ],
   "source": [
    "from pathlib import Path\n",
    "from openai import OpenAI\n",
    "client = OpenAI()\n",
    "\n",
    "# Get the current working directory\n",
    "# a Jupyter notebook, the __file__ attribute is not available. \n",
    "# Instead, you can use the os module to get the current working directory.\n",
    "current_dir = os.getcwd()\n",
    "\n",
    "speech_file_path = Path(current_dir) / \"speech.mp3\"\n",
    "response = client.audio.speech.create(\n",
    "  model=\"tts-1\",\n",
    "  voice=\"alloy\",\n",
    "  input=\"Today is a wonderful day to build something people love!\"\n",
    ")\n",
    "\n",
    "response.stream_to_file(speech_file_path)"
   ]
  },
  {
   "cell_type": "markdown",
   "metadata": {},
   "source": [
    "We get a DeprecationWarning: This is discussed in https://github.com/openai/openai-python/issues/864 But right now we can ignore the warning. As the file is being generated."
   ]
  }
 ],
 "metadata": {
  "kernelspec": {
   "display_name": "Python 3",
   "language": "python",
   "name": "python3"
  },
  "language_info": {
   "codemirror_mode": {
    "name": "ipython",
    "version": 3
   },
   "file_extension": ".py",
   "mimetype": "text/x-python",
   "name": "python",
   "nbconvert_exporter": "python",
   "pygments_lexer": "ipython3",
   "version": "3.10.13"
  }
 },
 "nbformat": 4,
 "nbformat_minor": 2
}
